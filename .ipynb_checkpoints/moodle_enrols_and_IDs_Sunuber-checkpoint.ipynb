{
 "cells": [
  {
   "cell_type": "code",
   "execution_count": 2,
   "id": "ad3bf649-82e6-4aa9-8b6d-cf73930be842",
   "metadata": {},
   "outputs": [
    {
     "name": "stdout",
     "output_type": "stream",
     "text": [
      "Requirement already satisfied: psycopg2-binary in /opt/anaconda3/lib/python3.11/site-packages (2.9.10)\n",
      "Requirement already satisfied: pymysql in /opt/anaconda3/lib/python3.11/site-packages (1.1.1)\n"
     ]
    }
   ],
   "source": [
    "!pip install psycopg2-binary\n",
    "!pip install pymysql"
   ]
  },
  {
   "cell_type": "code",
   "execution_count": 3,
   "id": "8a46ad85-9438-4faf-ae1d-265d786394c8",
   "metadata": {},
   "outputs": [
    {
     "name": "stdout",
     "output_type": "stream",
     "text": [
      "psycopg2 installed successfully!\n"
     ]
    }
   ],
   "source": [
    "import psycopg2\n",
    "print(\"psycopg2 installed successfully!\")"
   ]
  },
  {
   "cell_type": "code",
   "execution_count": 4,
   "id": "7a501f46-e697-4ea7-9e66-1b86b99eb2dd",
   "metadata": {},
   "outputs": [
    {
     "name": "stdout",
     "output_type": "stream",
     "text": [
      "✅ Connected to database successfully!\n",
      "✅ Database connection closed.\n",
      "   id  user_id  course_id  enrol_date completion_date  progress status\n",
      "0   1       19         14  2013-08-12            None        50   open\n",
      "1   2      155         14  2013-10-18            None        50   open\n",
      "2   3       56         14  2013-08-12            None        50   open\n",
      "3   4      156          3  2013-10-18            None        50   open\n",
      "4   5       35         14  2013-08-12            None        50   open\n"
     ]
    }
   ],
   "source": [
    "import pymysql\n",
    "import pandas as pd\n",
    "\n",
    "def fetch_data():\n",
    "    \"\"\" Connects to MySQL, fetches data, and returns a Pandas DataFrame. \"\"\"\n",
    "    try:\n",
    "        conn = pymysql.connect(\n",
    "            host='eufmd-database-1.cqodkl4vazie.eu-north-1.rds.amazonaws.com',\n",
    "            user='root',\n",
    "            password='YOUR_PASSWORD',\n",
    "            database='db_training',\n",
    "            port=3306,\n",
    "            cursorclass=pymysql.cursors.DictCursor\n",
    "        )\n",
    "        print(\"✅ Connected to database successfully!\")\n",
    "\n",
    "        # Execute query\n",
    "        with conn.cursor() as cursor:\n",
    "            query = \"SELECT * FROM moodle_enrols;\"\n",
    "            cursor.execute(query)\n",
    "            columns = [desc[0] for desc in cursor.description]  # Get column names\n",
    "            rows = cursor.fetchall()  # Fetch all rows\n",
    "\n",
    "        # Convert to DataFrame\n",
    "        df = pd.DataFrame(rows, columns=columns)\n",
    "        return df\n",
    "\n",
    "    except pymysql.Error as e:\n",
    "        print(f\"❌ Error: {e}\")\n",
    "        return None\n",
    "\n",
    "    finally:\n",
    "        if conn:\n",
    "            conn.close()\n",
    "            print(\"✅ Database connection closed.\")\n",
    "\n",
    "# Run the script\n",
    "if __name__ == \"__main__\":\n",
    "    df = fetch_data()\n",
    "    if df is not None:\n",
    "        print(df.head())  # Print first 5 rows\n"
   ]
  },
  {
   "cell_type": "code",
   "execution_count": 5,
   "id": "17ac3bb5-1291-47af-8b23-65fb3fe39cec",
   "metadata": {},
   "outputs": [
    {
     "data": {
      "text/html": [
       "<div>\n",
       "<style scoped>\n",
       "    .dataframe tbody tr th:only-of-type {\n",
       "        vertical-align: middle;\n",
       "    }\n",
       "\n",
       "    .dataframe tbody tr th {\n",
       "        vertical-align: top;\n",
       "    }\n",
       "\n",
       "    .dataframe thead th {\n",
       "        text-align: right;\n",
       "    }\n",
       "</style>\n",
       "<table border=\"1\" class=\"dataframe\">\n",
       "  <thead>\n",
       "    <tr style=\"text-align: right;\">\n",
       "      <th></th>\n",
       "      <th>id</th>\n",
       "      <th>user_id</th>\n",
       "      <th>course_id</th>\n",
       "      <th>enrol_date</th>\n",
       "      <th>completion_date</th>\n",
       "      <th>progress</th>\n",
       "      <th>status</th>\n",
       "    </tr>\n",
       "  </thead>\n",
       "  <tbody>\n",
       "    <tr>\n",
       "      <th>0</th>\n",
       "      <td>1</td>\n",
       "      <td>19</td>\n",
       "      <td>14</td>\n",
       "      <td>2013-08-12</td>\n",
       "      <td>None</td>\n",
       "      <td>50</td>\n",
       "      <td>open</td>\n",
       "    </tr>\n",
       "    <tr>\n",
       "      <th>1</th>\n",
       "      <td>2</td>\n",
       "      <td>155</td>\n",
       "      <td>14</td>\n",
       "      <td>2013-10-18</td>\n",
       "      <td>None</td>\n",
       "      <td>50</td>\n",
       "      <td>open</td>\n",
       "    </tr>\n",
       "    <tr>\n",
       "      <th>2</th>\n",
       "      <td>3</td>\n",
       "      <td>56</td>\n",
       "      <td>14</td>\n",
       "      <td>2013-08-12</td>\n",
       "      <td>None</td>\n",
       "      <td>50</td>\n",
       "      <td>open</td>\n",
       "    </tr>\n",
       "    <tr>\n",
       "      <th>3</th>\n",
       "      <td>4</td>\n",
       "      <td>156</td>\n",
       "      <td>3</td>\n",
       "      <td>2013-10-18</td>\n",
       "      <td>None</td>\n",
       "      <td>50</td>\n",
       "      <td>open</td>\n",
       "    </tr>\n",
       "    <tr>\n",
       "      <th>4</th>\n",
       "      <td>5</td>\n",
       "      <td>35</td>\n",
       "      <td>14</td>\n",
       "      <td>2013-08-12</td>\n",
       "      <td>None</td>\n",
       "      <td>50</td>\n",
       "      <td>open</td>\n",
       "    </tr>\n",
       "    <tr>\n",
       "      <th>...</th>\n",
       "      <td>...</td>\n",
       "      <td>...</td>\n",
       "      <td>...</td>\n",
       "      <td>...</td>\n",
       "      <td>...</td>\n",
       "      <td>...</td>\n",
       "      <td>...</td>\n",
       "    </tr>\n",
       "    <tr>\n",
       "      <th>128128</th>\n",
       "      <td>141132</td>\n",
       "      <td>5099</td>\n",
       "      <td>466</td>\n",
       "      <td>2025-01-30</td>\n",
       "      <td>0000-00-00</td>\n",
       "      <td>50</td>\n",
       "      <td>open</td>\n",
       "    </tr>\n",
       "    <tr>\n",
       "      <th>128129</th>\n",
       "      <td>141133</td>\n",
       "      <td>12197</td>\n",
       "      <td>466</td>\n",
       "      <td>2025-01-30</td>\n",
       "      <td>0000-00-00</td>\n",
       "      <td>50</td>\n",
       "      <td>open</td>\n",
       "    </tr>\n",
       "    <tr>\n",
       "      <th>128130</th>\n",
       "      <td>141135</td>\n",
       "      <td>4599</td>\n",
       "      <td>466</td>\n",
       "      <td>2025-01-30</td>\n",
       "      <td>0000-00-00</td>\n",
       "      <td>50</td>\n",
       "      <td>open</td>\n",
       "    </tr>\n",
       "    <tr>\n",
       "      <th>128131</th>\n",
       "      <td>141137</td>\n",
       "      <td>11020</td>\n",
       "      <td>466</td>\n",
       "      <td>2025-01-30</td>\n",
       "      <td>0000-00-00</td>\n",
       "      <td>50</td>\n",
       "      <td>open</td>\n",
       "    </tr>\n",
       "    <tr>\n",
       "      <th>128132</th>\n",
       "      <td>141138</td>\n",
       "      <td>21266</td>\n",
       "      <td>466</td>\n",
       "      <td>2025-01-30</td>\n",
       "      <td>0000-00-00</td>\n",
       "      <td>50</td>\n",
       "      <td>open</td>\n",
       "    </tr>\n",
       "  </tbody>\n",
       "</table>\n",
       "<p>128133 rows × 7 columns</p>\n",
       "</div>"
      ],
      "text/plain": [
       "            id  user_id  course_id  enrol_date completion_date  progress  \\\n",
       "0            1       19         14  2013-08-12            None        50   \n",
       "1            2      155         14  2013-10-18            None        50   \n",
       "2            3       56         14  2013-08-12            None        50   \n",
       "3            4      156          3  2013-10-18            None        50   \n",
       "4            5       35         14  2013-08-12            None        50   \n",
       "...        ...      ...        ...         ...             ...       ...   \n",
       "128128  141132     5099        466  2025-01-30      0000-00-00        50   \n",
       "128129  141133    12197        466  2025-01-30      0000-00-00        50   \n",
       "128130  141135     4599        466  2025-01-30      0000-00-00        50   \n",
       "128131  141137    11020        466  2025-01-30      0000-00-00        50   \n",
       "128132  141138    21266        466  2025-01-30      0000-00-00        50   \n",
       "\n",
       "       status  \n",
       "0        open  \n",
       "1        open  \n",
       "2        open  \n",
       "3        open  \n",
       "4        open  \n",
       "...       ...  \n",
       "128128   open  \n",
       "128129   open  \n",
       "128130   open  \n",
       "128131   open  \n",
       "128132   open  \n",
       "\n",
       "[128133 rows x 7 columns]"
      ]
     },
     "execution_count": 5,
     "metadata": {},
     "output_type": "execute_result"
    }
   ],
   "source": [
    "df"
   ]
  },
  {
   "cell_type": "code",
   "execution_count": 6,
   "id": "25d0f2a9-7f84-4424-a7f2-3a9709094972",
   "metadata": {},
   "outputs": [
    {
     "name": "stdout",
     "output_type": "stream",
     "text": [
      "<class 'pandas.core.frame.DataFrame'>\n",
      "RangeIndex: 128133 entries, 0 to 128132\n",
      "Data columns (total 7 columns):\n",
      " #   Column           Non-Null Count   Dtype \n",
      "---  ------           --------------   ----- \n",
      " 0   id               128133 non-null  int64 \n",
      " 1   user_id          128133 non-null  int64 \n",
      " 2   course_id        128133 non-null  int64 \n",
      " 3   enrol_date       128133 non-null  object\n",
      " 4   completion_date  34651 non-null   object\n",
      " 5   progress         128133 non-null  int64 \n",
      " 6   status           128133 non-null  object\n",
      "dtypes: int64(4), object(3)\n",
      "memory usage: 6.8+ MB\n",
      "None\n"
     ]
    }
   ],
   "source": [
    "print(df.info())"
   ]
  },
  {
   "cell_type": "code",
   "execution_count": 7,
   "id": "13a15fd4-f9cf-407c-a76c-f2303ccc16a7",
   "metadata": {},
   "outputs": [
    {
     "name": "stdout",
     "output_type": "stream",
     "text": [
      "duplicates:0\n"
     ]
    }
   ],
   "source": [
    "print(f\"duplicates:{df.duplicated().sum()}\")"
   ]
  },
  {
   "cell_type": "code",
   "execution_count": 8,
   "id": "1b32acf8-c0ab-4026-813b-c971e6066b31",
   "metadata": {},
   "outputs": [
    {
     "name": "stdout",
     "output_type": "stream",
     "text": [
      "[14  3 20 21  4  2 28 12 13 16]\n"
     ]
    }
   ],
   "source": [
    "print(df[\"course_id\"].unique()[:10])"
   ]
  },
  {
   "cell_type": "code",
   "execution_count": 9,
   "id": "ad8c58ff-3528-4a41-9736-06be2992f29f",
   "metadata": {},
   "outputs": [
    {
     "name": "stdout",
     "output_type": "stream",
     "text": [
      "                  id        user_id      course_id       progress\n",
      "count  128133.000000  128133.000000  128133.000000  128133.000000\n",
      "mean    65936.148572   17440.345118     194.122607      60.712697\n",
      "std     39771.725504   18222.115558     172.025990      20.515269\n",
      "min         1.000000       2.000000       2.000000      50.000000\n",
      "25%     32035.000000    4241.000000      14.000000      50.000000\n",
      "50%     64068.000000   10750.000000     164.000000      50.000000\n",
      "75%     96101.000000   22434.000000     379.000000      50.000000\n",
      "max    141138.000000   67680.000000     466.000000     100.000000\n"
     ]
    }
   ],
   "source": [
    "print(df.describe())"
   ]
  },
  {
   "cell_type": "code",
   "execution_count": 10,
   "id": "f0f6e00b-6d80-430e-8df4-b2d1cd9faa92",
   "metadata": {},
   "outputs": [
    {
     "name": "stdout",
     "output_type": "stream",
     "text": [
      "progress\n",
      "50     100680\n",
      "100     27453\n",
      "Name: count, dtype: int64\n"
     ]
    }
   ],
   "source": [
    "print(df[\"progress\"].value_counts())"
   ]
  },
  {
   "cell_type": "code",
   "execution_count": 11,
   "id": "77282708-1599-46f7-bb5a-99b42bbb8fdb",
   "metadata": {},
   "outputs": [
    {
     "name": "stdout",
     "output_type": "stream",
     "text": [
      "completion_date\n",
      "0000-00-00    7198\n",
      "2024-07-31     607\n",
      "2024-10-11     479\n",
      "2024-12-20     398\n",
      "2024-11-07     388\n",
      "              ... \n",
      "2019-08-04       1\n",
      "2019-07-17       1\n",
      "2019-07-03       1\n",
      "2022-11-26       1\n",
      "2022-01-26       1\n",
      "Name: count, Length: 2315, dtype: int64\n"
     ]
    }
   ],
   "source": [
    "print(df[\"completion_date\"].value_counts())"
   ]
  },
  {
   "cell_type": "markdown",
   "id": "cc8e1c1e-629e-43de-854a-38570c061ff1",
   "metadata": {},
   "source": [
    "## Data Preprocessing"
   ]
  },
  {
   "cell_type": "code",
   "execution_count": 12,
   "id": "77677d9d-de30-408f-bc1a-6236384f2c15",
   "metadata": {},
   "outputs": [
    {
     "name": "stdout",
     "output_type": "stream",
     "text": [
      "id                     0\n",
      "user_id                0\n",
      "course_id              0\n",
      "enrol_date             0\n",
      "completion_date    93482\n",
      "progress               0\n",
      "status                 0\n",
      "dtype: int64\n"
     ]
    }
   ],
   "source": [
    "print(df.isnull().sum())  # Count missing values in each column\n",
    "\n"
   ]
  },
  {
   "cell_type": "code",
   "execution_count": 13,
   "id": "d3fd1cc5-5312-40c0-99c9-3c2ec08d24ce",
   "metadata": {},
   "outputs": [],
   "source": [
    "# Fill in missing values with \"missing completion date\"\n",
    "df[\"completion_date\"].fillna(\"unknown completion date\", inplace=True)"
   ]
  },
  {
   "cell_type": "code",
   "execution_count": 14,
   "id": "ae5e68bf-b481-4c87-8d2c-fff8b1b4901a",
   "metadata": {},
   "outputs": [
    {
     "name": "stdout",
     "output_type": "stream",
     "text": [
      "completion_date\n",
      "unknown completion date    93482\n",
      "0000-00-00                  7198\n",
      "2024-07-31                   607\n",
      "2024-10-11                   479\n",
      "2024-12-20                   398\n",
      "                           ...  \n",
      "2022-11-25                     1\n",
      "2018-09-28                     1\n",
      "2018-09-13                     1\n",
      "2019-06-03                     1\n",
      "2022-01-26                     1\n",
      "Name: count, Length: 2316, dtype: int64\n"
     ]
    }
   ],
   "source": [
    "print(df[\"completion_date\"].value_counts())"
   ]
  },
  {
   "cell_type": "code",
   "execution_count": 15,
   "id": "37146930-edf8-4d81-a4a6-ee2fee81ac49",
   "metadata": {},
   "outputs": [
    {
     "name": "stdout",
     "output_type": "stream",
     "text": [
      "id                 0\n",
      "user_id            0\n",
      "course_id          0\n",
      "enrol_date         0\n",
      "completion_date    0\n",
      "progress           0\n",
      "status             0\n",
      "dtype: int64\n"
     ]
    }
   ],
   "source": [
    "print(df.isnull().sum())"
   ]
  },
  {
   "cell_type": "code",
   "execution_count": 16,
   "id": "159b67cb-92d2-47db-bdc4-3d85bde22a02",
   "metadata": {},
   "outputs": [
    {
     "name": "stderr",
     "output_type": "stream",
     "text": [
      "/var/folders/z4/y29hfzpj47dd0krx452vm5940000gn/T/ipykernel_33912/4056775821.py:1: UserWarning: Could not infer format, so each element will be parsed individually, falling back to `dateutil`. To ensure parsing is consistent and as-expected, please specify a format.\n",
      "  df['completion_date'] = pd.to_datetime(df['completion_date'], errors='coerce')  # Convert to datetime\n"
     ]
    }
   ],
   "source": [
    "df['completion_date'] = pd.to_datetime(df['completion_date'], errors='coerce')  # Convert to datetime\n",
    "\n",
    "# Filter valid dates (non-null after conversion)\n",
    "df_valid_dates = df[df['completion_date'].notna()]\n"
   ]
  },
  {
   "cell_type": "code",
   "execution_count": 17,
   "id": "a6924687-78ab-482f-93db-20b19f9c932f",
   "metadata": {},
   "outputs": [],
   "source": [
    "df['completion_date'] = pd.to_datetime(df['completion_date'], format='%Y-%m-%d', errors='coerce')\n"
   ]
  },
  {
   "cell_type": "code",
   "execution_count": 18,
   "id": "bef724d2-8d5b-4883-b2ac-18ccd1f9ee0a",
   "metadata": {},
   "outputs": [],
   "source": [
    "df_valid_dates = df[~df['completion_date'].isin(['None', '00', '0000-00-00', ''])]  # Exclude invalid values\n",
    "\n",
    "\n"
   ]
  },
  {
   "cell_type": "code",
   "execution_count": null,
   "id": "d58ce564-3d44-4ea9-ae6c-35227992ec76",
   "metadata": {},
   "outputs": [],
   "source": []
  }
 ],
 "metadata": {
  "kernelspec": {
   "display_name": "Python 3 (ipykernel)",
   "language": "python",
   "name": "python3"
  },
  "language_info": {
   "codemirror_mode": {
    "name": "ipython",
    "version": 3
   },
   "file_extension": ".py",
   "mimetype": "text/x-python",
   "name": "python",
   "nbconvert_exporter": "python",
   "pygments_lexer": "ipython3",
   "version": "3.11.7"
  }
 },
 "nbformat": 4,
 "nbformat_minor": 5
}
