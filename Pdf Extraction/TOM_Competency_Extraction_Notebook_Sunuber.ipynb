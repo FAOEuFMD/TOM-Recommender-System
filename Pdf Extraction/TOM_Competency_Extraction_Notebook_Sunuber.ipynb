{
 "cells": [
  {
   "cell_type": "markdown",
   "id": "a2f40201-20de-4fd1-ab8f-5f4073e75709",
   "metadata": {},
   "source": [
    "Removal of hyphens"
   ]
  },
  {
   "cell_type": "code",
   "execution_count": 7,
   "id": "90375887-5b2e-4a7e-b00f-9e981f246f9c",
   "metadata": {},
   "outputs": [],
   "source": [
    "import pdfplumber\n",
    "import pandas as pd\n",
    "\n",
    "# Path to your PDF file\n",
    "pdf_path = \"/Users/sunuber/Desktop/_Sunuber/TOM-Recommender-System/Sunuber/TOM competency_Disease competency_Nov2022_rev12Oct2023.pdf\""
   ]
  },
  {
   "cell_type": "code",
   "execution_count": 8,
   "id": "f8a8f693-f8e0-41d7-9120-7b951cc8f994",
   "metadata": {},
   "outputs": [
    {
     "name": "stdout",
     "output_type": "stream",
     "text": [
      "                                                                        None  \\\n",
      "0                                                               Epidemiology   \n",
      "1   Transboundary Diseases                                              None   \n",
      "2                           Disease Prevention and\\nControl Programs General   \n",
      "3              Biosecurity                                              None   \n",
      "4                                                                   Sampling   \n",
      "5  ID and Movement Control                                              None   \n",
      "6                                         Emergency and Disaster\\nManagement   \n",
      "7   Emergency Preparedness                                              None   \n",
      "8                                                         Emergency response   \n",
      "9      Veterinary Products                                              None   \n",
      "\n",
      "  Policy developer  None  None Veterinary advisor  None  None  \\\n",
      "0                      5                              4         \n",
      "1                4  None  None                  4  None  None   \n",
      "2                5  None  None                  4  None  None   \n",
      "3                5  None  None                  4  None  None   \n",
      "4                      4                              4         \n",
      "5                5  None  None                  4  None  None   \n",
      "6                5  None  None                  4  None  None   \n",
      "7                5  None  None                  4  None  None   \n",
      "8                      5                              4         \n",
      "9                5  None  None                  4  None  None   \n",
      "\n",
      "  Fully functional gov't\\nfield veterinarian  None  None  \n",
      "0                                                3        \n",
      "1                                          3  None  None  \n",
      "2                                          3  None  None  \n",
      "3                                          3  None  None  \n",
      "4                                                3        \n",
      "5                                          3  None  None  \n",
      "6                                        2/3  None  None  \n",
      "7                                          3  None  None  \n",
      "8                                                3        \n",
      "9                                          3  None  None  \n"
     ]
    }
   ],
   "source": [
    "\n",
    "# Extract table data\n",
    "data = []\n",
    "with pdfplumber.open(pdf_path) as pdf:\n",
    "    for page in pdf.pages:\n",
    "        tables = page.extract_tables()\n",
    "        for table in tables:\n",
    "            data.extend(table)  # Add table rows to data\n",
    "\n",
    "# Check if data was found\n",
    "if data and len(data) > 1:\n",
    "    # First row as headers, remaining rows as data\n",
    "    columns = data[0]\n",
    "    rows = data[1:]\n",
    "    \n",
    "    # Create DataFrame\n",
    "    df = pd.DataFrame(rows, columns=columns)\n",
    "\n",
    "    # Display the DataFrame\n",
    "    print(df.head(10))\n",
    "else:\n",
    "    print(\"No table data found in the PDF.\")\n"
   ]
  },
  {
   "cell_type": "code",
   "execution_count": 9,
   "id": "637c58b7-64f4-4512-95a4-2f2dfd428e0c",
   "metadata": {},
   "outputs": [
    {
     "name": "stdout",
     "output_type": "stream",
     "text": [
      "  Behaviour Indicators\n",
      "0              Pretest\n",
      "1              Pretest\n",
      "2              Pretest\n",
      "3              Pretest\n",
      "4              Pretest\n",
      "5              Pretest\n"
     ]
    }
   ],
   "source": [
    "import pandas as pd\n",
    "\n",
    "# Sample DataFrame\n",
    "data = {\n",
    "    \"Behaviour Indicators\": [\n",
    "        \"Pre -test\",   # Hyphen with space before and after\n",
    "        \"Pre-test\",    # Hyphen without space\n",
    "        \"Pre – test\",  # Long dash with spaces\n",
    "        \"Pre—test\",    # Em dash without space\n",
    "        \"Pre — test\",  # Em dash with spaces\n",
    "        \"Pre‑test\"     # Non-breaking hyphen\n",
    "    ]\n",
    "}\n",
    "\n",
    "# Create the DataFrame\n",
    "df = pd.DataFrame(data)\n",
    "\n",
    "# Regex pattern to match all types of hyphens/dashes with or without spaces\n",
    "pattern = r'\\s*[\\-\\u2010\\u2011\\u2012\\u2013\\u2014\\u2015\\u2212]\\s*'\n",
    "\n",
    "# Remove all types of hyphens/dashes from the column\n",
    "target_column = \"Behaviour Indicators\"\n",
    "if target_column in df.columns:\n",
    "    df[target_column] = df[target_column].str.replace(pattern, '', regex=True)\n",
    "\n",
    "# Display the cleaned DataFrame\n",
    "print(df)\n"
   ]
  },
  {
   "cell_type": "code",
   "execution_count": 10,
   "id": "16b2a358-c2d0-44d6-aec5-8158f5d05239",
   "metadata": {},
   "outputs": [],
   "source": [
    "df.to_csv(\"cleaned_file.csv\", index=False)"
   ]
  },
  {
   "cell_type": "code",
   "execution_count": 11,
   "id": "61218c26-2a97-4e5e-8c0b-439cf239a716",
   "metadata": {},
   "outputs": [
    {
     "name": "stdout",
     "output_type": "stream",
     "text": [
      "All hyphens have been successfully removed.\n"
     ]
    }
   ],
   "source": [
    "if df[target_column].str.contains(r'[\\-\\u2010\\u2011\\u2012\\u2013\\u2014\\u2015\\u2212]').any():\n",
    "    print(\"Some hyphens still remain.\")\n",
    "else:\n",
    "    print(\"All hyphens have been successfully removed.\")\n"
   ]
  },
  {
   "cell_type": "code",
   "execution_count": 12,
   "id": "57566b5b-8405-4335-9730-4c1e92c6a596",
   "metadata": {},
   "outputs": [
    {
     "name": "stdout",
     "output_type": "stream",
     "text": [
      "               Unnamed: 0                                        Unnamed: 1  \\\n",
      "0                     NaN                                      Epidemiology   \n",
      "1  Transboundary Diseases                                               NaN   \n",
      "2                     NaN  Disease Prevention and\\nControl Programs General   \n",
      "3             Biosecurity                                               NaN   \n",
      "4                     NaN                                          Sampling   \n",
      "\n",
      "  Policy developer Unnamed: 3  Unnamed: 4 Veterinary advisor  Unnamed: 6  \\\n",
      "0              NaN          5         NaN                NaN         4.0   \n",
      "1                4        NaN         NaN                  4         NaN   \n",
      "2                5        NaN         NaN                  4         NaN   \n",
      "3                5        NaN         NaN                  4         NaN   \n",
      "4              NaN          4         NaN                NaN         4.0   \n",
      "\n",
      "   Unnamed: 7 Fully functional gov't\\nfield veterinarian  Unnamed: 9  \\\n",
      "0         NaN                                        NaN         3.0   \n",
      "1         NaN                                          3         NaN   \n",
      "2         NaN                                          3         NaN   \n",
      "3         NaN                                          3         NaN   \n",
      "4         NaN                                        NaN         3.0   \n",
      "\n",
      "   Unnamed: 10  \n",
      "0          NaN  \n",
      "1          NaN  \n",
      "2          NaN  \n",
      "3          NaN  \n",
      "4          NaN  \n",
      "Index(['Unnamed: 0', 'Unnamed: 1', 'Policy developer', 'Unnamed: 3',\n",
      "       'Unnamed: 4', 'Veterinary advisor', 'Unnamed: 6', 'Unnamed: 7',\n",
      "       'Fully functional gov't\\nfield veterinarian', 'Unnamed: 9',\n",
      "       'Unnamed: 10'],\n",
      "      dtype='object')\n"
     ]
    }
   ],
   "source": [
    "import pandas as pd\n",
    "\n",
    "# Load the cleaned CSV\n",
    "cleaned_df = pd.read_csv(\"/Users/sunuber/Desktop/FAO_cleaned_CSVdata.csv\")\n",
    "\n",
    "# Display the first few rows to inspect\n",
    "print(cleaned_df.head())\n",
    "print(cleaned_df.columns)\n"
   ]
  },
  {
   "cell_type": "code",
   "execution_count": 13,
   "id": "1cb87aad-b534-44db-b7cc-da8b8ecd84a2",
   "metadata": {},
   "outputs": [
    {
     "name": "stdout",
     "output_type": "stream",
     "text": [
      "Columns with remaining hyphens: ['Unnamed: 0', 'Unnamed: 1', 'Policy developer', 'Unnamed: 3']\n"
     ]
    }
   ],
   "source": [
    "# Check all columns for any remaining hyphen-like characters\n",
    "has_hyphens = cleaned_df.apply(lambda x: x.astype(str).str.contains(r'[\\-\\u2010\\u2011\\u2012\\u2013\\u2014\\u2015\\u2212]').any(), axis=0)\n",
    "\n",
    "print(\"Columns with remaining hyphens:\", has_hyphens[has_hyphens].index.tolist())\n"
   ]
  },
  {
   "cell_type": "code",
   "execution_count": 14,
   "id": "be2180b0-940c-4f89-9d3b-44b97aa04d9f",
   "metadata": {},
   "outputs": [
    {
     "name": "stdout",
     "output_type": "stream",
     "text": [
      "Number of columns: 11\n",
      "Number of rows: 390\n"
     ]
    }
   ],
   "source": [
    "# Print the number of columns and rows\n",
    "print(\"Number of columns:\", cleaned_df.shape[1])\n",
    "print(\"Number of rows:\", cleaned_df.shape[0])\n"
   ]
  },
  {
   "cell_type": "code",
   "execution_count": 15,
   "id": "d0c00f9d-62d8-4464-8048-87a01784f021",
   "metadata": {},
   "outputs": [],
   "source": [
    "csv_file=\"/Users/sunuber/Desktop/_Sunuber/TOM-Recommender-System/Sunuber/TOM_Competency_Framework_Extracted_Correct.csv\""
   ]
  },
  {
   "cell_type": "code",
   "execution_count": 16,
   "id": "256903da-fbc5-4129-a94d-8df7e72d8656",
   "metadata": {},
   "outputs": [
    {
     "name": "stdout",
     "output_type": "stream",
     "text": [
      "                                         TOM_Competency_Framework_Extracted\n",
      "Competency     Level                                               Behavior\n",
      "Animal Welfare Awareness  - explain the importance of the human- animal ...\n",
      "               Awareness  -describe the indications of pain and distress...\n",
      "               Awareness     - use animal handling techniques and equipment\n",
      "               Awareness  - explain animal welfare in the context of the...\n"
     ]
    }
   ],
   "source": [
    "import pandas as pd\n",
    "\n",
    "# Correct file path after conversion\n",
    "csv_file = \"/Users/sunuber/Desktop/_Sunuber/TOM-Recommender-System/Sunuber/TOM_Competency_Framework_Extracted_Correct.csv\"\n",
    "\n",
    "# Read the CSV\n",
    "df = pd.read_csv(csv_file)\n",
    "\n",
    "# Display the first few rows\n",
    "print(df.head())\n"
   ]
  },
  {
   "cell_type": "code",
   "execution_count": 17,
   "id": "f1468de3-2efd-4bf7-a084-90662bd56ff7",
   "metadata": {},
   "outputs": [
    {
     "name": "stdout",
     "output_type": "stream",
     "text": [
      "Hyphen removal completed. Cleaned file saved at: /Users/sunuber/Desktop/_Sunuber/TOM-Recommender-System/Sunuber/cleaned_file.csv\n"
     ]
    },
    {
     "name": "stderr",
     "output_type": "stream",
     "text": [
      "/var/folders/z4/y29hfzpj47dd0krx452vm5940000gn/T/ipykernel_1184/2032186035.py:14: FutureWarning: DataFrame.applymap has been deprecated. Use DataFrame.map instead.\n",
      "  df = df.applymap(lambda x: x.replace(pattern, '') if isinstance(x, str) else x)\n"
     ]
    }
   ],
   "source": [
    "import pandas as pd\n",
    "\n",
    "# Path to your converted CSV file\n",
    "csv_file = \"/Users/sunuber/Desktop/_Sunuber/TOM-Recommender-System/Sunuber/TOM_Competency_Framework_Extracted_Correct.csv\"\n",
    "\n",
    "# Read the CSV file into a DataFrame\n",
    "df = pd.read_csv(csv_file)\n",
    "\n",
    "# Remove all types of hyphens/dashes from all columns\n",
    "# Regex pattern to match all hyphen/dash variations\n",
    "pattern = r'[\\-\\u2010\\u2011\\u2012\\u2013\\u2014\\u2015\\u2212]'\n",
    "\n",
    "# Apply the replacement to all string columns\n",
    "df = df.applymap(lambda x: x.replace(pattern, '') if isinstance(x, str) else x)\n",
    "\n",
    "# Save the cleaned DataFrame to a new CSV file\n",
    "cleaned_file_path = \"/Users/sunuber/Desktop/_Sunuber/TOM-Recommender-System/Sunuber/cleaned_file.csv\"\n",
    "df.to_csv(cleaned_file_path, index=False)\n",
    "\n",
    "print(\"Hyphen removal completed. Cleaned file saved at:\", cleaned_file_path)\n"
   ]
  },
  {
   "cell_type": "code",
   "execution_count": 18,
   "id": "ba6af7b6-0025-4b62-85d6-650f78d76d5c",
   "metadata": {},
   "outputs": [
    {
     "name": "stderr",
     "output_type": "stream",
     "text": [
      "/var/folders/z4/y29hfzpj47dd0krx452vm5940000gn/T/ipykernel_1184/3000271572.py:11: FutureWarning: DataFrame.applymap has been deprecated. Use DataFrame.map instead.\n",
      "  df_cleaned = df.applymap(lambda x: x.replace(\"-\", \"\").replace(\"–\", \"\").replace(\"—\", \"\") if isinstance(x, str) else x)\n"
     ]
    }
   ],
   "source": [
    "import pandas as pd\n",
    "\n",
    "# Load the uploaded CSV file\n",
    "uploaded_file_path = '/Users/sunuber/Desktop/_Sunuber/TOM-Recommender-System/Sunuber/TOM_Competency_Framework_Extracted_Correct.csv'\n",
    "cleaned_file_path = '/Users/sunuber/Desktop/_Sunuber/TOM-Recommender-System/Sunuber/cleaned_file.csv'\n",
    "\n",
    "# Load the CSV file into a DataFrame\n",
    "df = pd.read_csv(uploaded_file_path)\n",
    "\n",
    "# Remove all occurrences of hyphens (\"-\"), en-dashes (\"–\"), and em-dashes (\"—\") from string data\n",
    "df_cleaned = df.applymap(lambda x: x.replace(\"-\", \"\").replace(\"–\", \"\").replace(\"—\", \"\") if isinstance(x, str) else x)\n",
    "\n",
    "# Save the cleaned DataFrame to a new CSV file\n",
    "df_cleaned.to_csv(cleaned_file_path, index=False)\n"
   ]
  },
  {
   "cell_type": "code",
   "execution_count": 19,
   "id": "41538751-489b-4e99-a6cf-3e9bbad468de",
   "metadata": {},
   "outputs": [
    {
     "name": "stdout",
     "output_type": "stream",
     "text": [
      "                                         TOM_Competency_Framework_Extracted\n",
      "Competency     Level                                               Behavior\n",
      "Animal Welfare Awareness    explain the importance of the human animal bond\n",
      "               Awareness  describe the indications of pain and distress ...\n",
      "               Awareness       use animal handling techniques and equipment\n",
      "               Awareness   explain animal welfare in the context of the ...\n"
     ]
    }
   ],
   "source": [
    "print(df_cleaned.head(5))"
   ]
  },
  {
   "cell_type": "code",
   "execution_count": null,
   "id": "77d6585c-4573-4c92-9965-aa202538e027",
   "metadata": {},
   "outputs": [],
   "source": []
  }
 ],
 "metadata": {
  "kernelspec": {
   "display_name": "Python 3 (ipykernel)",
   "language": "python",
   "name": "python3"
  },
  "language_info": {
   "codemirror_mode": {
    "name": "ipython",
    "version": 3
   },
   "file_extension": ".py",
   "mimetype": "text/x-python",
   "name": "python",
   "nbconvert_exporter": "python",
   "pygments_lexer": "ipython3",
   "version": "3.11.7"
  }
 },
 "nbformat": 4,
 "nbformat_minor": 5
}
